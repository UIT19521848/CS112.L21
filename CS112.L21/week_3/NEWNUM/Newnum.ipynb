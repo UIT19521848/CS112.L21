{
  "nbformat": 4,
  "nbformat_minor": 0,
  "metadata": {
    "colab": {
      "name": "Newnum.ipynb",
      "provenance": [],
      "authorship_tag": "ABX9TyMXN4VGdcDBa4IcL87Rw9gN",
      "include_colab_link": true
    },
    "kernelspec": {
      "name": "python3",
      "display_name": "Python 3"
    },
    "language_info": {
      "name": "python"
    }
  },
  "cells": [
    {
      "cell_type": "markdown",
      "metadata": {
        "id": "view-in-github",
        "colab_type": "text"
      },
      "source": [
        "<a href=\"https://colab.research.google.com/github/levanphuoc-dev/CS112.L21/blob/readme-edits/CS112.L21/week_3/NEWNUM/Newnum.ipynb\" target=\"_parent\"><img src=\"https://colab.research.google.com/assets/colab-badge.svg\" alt=\"Open In Colab\"/></a>"
      ]
    },
    {
      "cell_type": "markdown",
      "metadata": {
        "id": "57-PPMdybBqQ"
      },
      "source": [
        "**SỐ NGUYÊN MỚI( NEWNUM)**"
      ]
    },
    {
      "cell_type": "markdown",
      "metadata": {
        "id": "CV8U2PZ2bWg9"
      },
      "source": [
        "**1.ABSTRACTION (TRỪU TƯỢNG HÓA)**"
      ]
    },
    {
      "cell_type": "markdown",
      "metadata": {
        "id": "SNz9Tx4Kb6Yu"
      },
      "source": [
        "\n",
        "\n",
        "*  Cho trước 1 số nguyên n.\n",
        "*  Xác định số nguyên m lớn nhất, khác n đúng 1 chữ số và chia hết cho 3.\n",
        "\n"
      ]
    },
    {
      "cell_type": "markdown",
      "metadata": {
        "id": "c_f8O_P6cM40"
      },
      "source": [
        "**2. Pattern recognition (Nhận dạng mẫu):**"
      ]
    },
    {
      "cell_type": "markdown",
      "metadata": {
        "id": "WobUDNcdcRa_"
      },
      "source": [
        "\n",
        "\n",
        "*   Kỹ thuật áp dụng: Duyệt mảng\n",
        "*   Đặc điểm nhận dạng: Tính chất của số chia hết cho 3\n",
        "\n"
      ]
    },
    {
      "cell_type": "markdown",
      "metadata": {
        "id": "7eKdeZd9caYX"
      },
      "source": [
        "**3. Algorithm designed (Thiết kế thuật toán):**"
      ]
    },
    {
      "cell_type": "markdown",
      "metadata": {
        "id": "xAqMPqpCcdTv"
      },
      "source": [
        "+ Chuyển input từ kiểu dữ liệu string sang mảng số nguyên s\n",
        "+ Tính q =  modulo của sum(s) cho 3\n",
        "+ đặt flag = True\n",
        "+ Lần lượt duyệt các phần tử của s từ trái sang phải:\n",
        "  - Thiết lập 1 biến tạm temp = s[i]%3 + 6 - q (để đưa về số chia hết cho 3)\n",
        "  -  Nếu temp <7, tăng temp lên 3 đơn vị ( đưa về số lớn nhất )\n",
        "  -  Nếu temp > s[i], thì gán s[i] = temp, flag = False, in kết quả và kết thúc chương trình\n",
        "  -  Ngược lại, tiếp tục duyệt\n",
        "+ Nếu khi duyệt hết s, nhưng flag = True ( tức chưa có phần tử nào được thay)\n",
        "  - Tạo biến tạm t = s[-1]%3 + 6 - q \n",
        "  - Nếu s[-1] = t, s[-1] = t - 3\n",
        "  - Ngược lại, s[-1] = t, in kết quả và kết thúc chương trình"
      ]
    },
    {
      "cell_type": "markdown",
      "metadata": {
        "id": "Ipggi38Ecix_"
      },
      "source": [
        "**4. Complexity (Độ phức tạp):**"
      ]
    },
    {
      "cell_type": "markdown",
      "metadata": {
        "id": "qb4iIpCScm9L"
      },
      "source": [
        "+ Ở trường hợp tốt nhất: độ phức tạp là O(1) ( khi duyệt phần tử đầu tiên thì gán luôn và kết thúc chương trình)\n",
        "+ Ở trường hợp xấu nhất: độ phức tạp là O(n) ( khi phần tử bị thay là phẩn tử cuối cùng của s)"
      ]
    },
    {
      "cell_type": "markdown",
      "metadata": {
        "id": "98WrgYApcpFH"
      },
      "source": [
        "**5. Code minh họa:**"
      ]
    },
    {
      "cell_type": "code",
      "metadata": {
        "colab": {
          "base_uri": "https://localhost:8080/"
        },
        "id": "iKPIc1DxW5pQ",
        "outputId": "0a02ef24-d0d0-47fa-8043-4c09ebd26a04"
      },
      "source": [
        "s = list(input().strip())\n",
        "\n",
        "def convert_arr(s):\n",
        "    result_int = []\n",
        "    for i in s:\n",
        "        result_int.append(ord(i) - ord('0'))\n",
        "    return result_int\n",
        "flag = True\n",
        "s = convert_arr(s)\n",
        "modulo_s = sum(s)%3\n",
        "for i, val in enumerate(s):\n",
        "    temp = val%3 + 6 - modulo_s\n",
        "    if(temp<7):\n",
        "        temp +=3\n",
        "    if(temp <= val):\n",
        "        continue\n",
        "    else:\n",
        "        s[i] = temp\n",
        "        flag = False\n",
        "        break\n",
        "if(flag):\n",
        "    t = s[-1]%3 + 6 - modulo_s\n",
        "    if(s[-1]== t ):\n",
        "        s[-1] -= 3\n",
        "    else:\n",
        "        s[-1] = t\n",
        "print(*s,sep ='')"
      ],
      "execution_count": null,
      "outputs": [
        {
          "output_type": "stream",
          "text": [
            "123\n",
            "723\n"
          ],
          "name": "stdout"
        }
      ]
    },
    {
      "cell_type": "markdown",
      "metadata": {
        "id": "9tZYazXfczu5"
      },
      "source": [
        "[![Open In Colab](https://colab.research.google.com/assets/colab-badge.svg)](https://colab.research.google.com/drive/1DcNLH39pbF3HRzWos6QvCcuA73sKQrCO)"
      ]
    }
  ]
}