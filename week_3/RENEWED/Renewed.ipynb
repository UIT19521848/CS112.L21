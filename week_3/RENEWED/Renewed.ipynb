{
  "nbformat": 4,
  "nbformat_minor": 0,
  "metadata": {
    "colab": {
      "name": "Renewed.ipynb",
      "provenance": [],
      "authorship_tag": "ABX9TyMqXmTsvpq/TRedd8V9WbAN",
      "include_colab_link": true
    },
    "kernelspec": {
      "name": "python3",
      "display_name": "Python 3"
    },
    "language_info": {
      "name": "python"
    }
  },
  "cells": [
    {
      "cell_type": "markdown",
      "metadata": {
        "id": "view-in-github",
        "colab_type": "text"
      },
      "source": [
        "<a href=\"https://colab.research.google.com/github/levanphuoc-dev/CS112.L21/blob/main/week_3/RENEWED/Renewed.ipynb\" target=\"_parent\"><img src=\"https://colab.research.google.com/assets/colab-badge.svg\" alt=\"Open In Colab\"/></a>"
      ]
    },
    {
      "cell_type": "markdown",
      "metadata": {
        "id": "vVLOb9nga-TY"
      },
      "source": [
        "# RENEWED"
      ]
    },
    {
      "cell_type": "markdown",
      "metadata": {
        "id": "7X7W-AeGZrcQ"
      },
      "source": [
        "**1. Abstraction (Trừu tượng hóa):**"
      ]
    },
    {
      "cell_type": "markdown",
      "metadata": {
        "id": "p275F-ujZvXA"
      },
      "source": [
        "\n",
        "\n",
        "*   cho trước các số nguyên a, k, b, m, n.\n",
        "*   tìm giá trị **t nguyên nhỏ nhất**, thỏa:\n",
        "    (a+b)*t - a*t//k - b*t//m >= n\n",
        "\n"
      ]
    },
    {
      "cell_type": "markdown",
      "metadata": {
        "id": "QSQy46Lqa2h_"
      },
      "source": [
        "**2. Pattern recognition (Nhận dạng mẫu):**"
      ]
    },
    {
      "cell_type": "markdown",
      "metadata": {
        "id": "_ydeP9z6bKTK"
      },
      "source": [
        "\n",
        "\n",
        "*   Kỹ thuật áp dụng: duyệt vòng lặp\n",
        "*   Đặc điểm nhận dạng: tìm số nhỏ nhất thõa biểu thức bài toán\n",
        "\n"
      ]
    },
    {
      "cell_type": "markdown",
      "metadata": {
        "id": "fL0Hj41Wbqz5"
      },
      "source": [
        "**3. Algorithm designed (Thiết kế thuật toán):**"
      ]
    },
    {
      "cell_type": "markdown",
      "metadata": {
        "id": "nX1Oc0RZbxW7"
      },
      "source": [
        "\n",
        "\n",
        "*   Tim số ngày ít nhất để hoàn thành công việc nếu không có ngày nghỉ:\n",
        "*   temp_day = n//(a+b)\n",
        "*   Tính số công việc còn lại khi đã thực hiện được **temp_day**:\n",
        "*   count = temp_day*(a+b) - a*(temp_day//k) - b*(temp_day//m)\n",
        "*   Kiểm tra chừng nào số công việc đã làm  vẫn còn bé hơn số công việc đề ra thì tiếp tục tăng số ngày thực hiện lên\n",
        "*   In kết quả\n",
        "\n",
        "\n",
        "\n",
        "\n",
        "\n"
      ]
    },
    {
      "cell_type": "markdown",
      "metadata": {
        "id": "NUXIKcPpdAes"
      },
      "source": [
        "**4. Complexity (Độ phức tạp):**"
      ]
    },
    {
      "cell_type": "markdown",
      "metadata": {
        "id": "K2o3OeCIdDDr"
      },
      "source": [
        "\n",
        "\n",
        "*   Mặc dù sử dụng vòng lặp while, nhưng số lần thực hiện phép toán rất ít ( nhỏ hơn 10), nên độ phức tạp của thuật toán này là O(1).\n",
        "\n"
      ]
    },
    {
      "cell_type": "markdown",
      "metadata": {
        "id": "OtN16kJreO9k"
      },
      "source": [
        "**5. Code minh họa:**"
      ]
    },
    {
      "cell_type": "code",
      "metadata": {
        "colab": {
          "base_uri": "https://localhost:8080/"
        },
        "id": "fAs0xM7qdY11",
        "outputId": "bc110646-c5cd-4e62-d999-e45ad4786802"
      },
      "source": [
        "import math\n",
        "a,k,b,m,n = list(map(int,input().split()))\n",
        "temp_day = n//(a+b)\n",
        "count = temp_day*(a+b) - a*(temp_day//k) - b*(temp_day//m)\n",
        "while(count < n ):\n",
        "    temp = math.ceil((n - count)/(a+b))\n",
        "    temp_day += temp\n",
        "    count = temp_day*(a+b) - a*(temp_day//k) - b*(temp_day//m)\n",
        "print(temp_day)"
      ],
      "execution_count": 4,
      "outputs": [
        {
          "output_type": "stream",
          "text": [
            "2 4 3 3 25\n",
            "7\n"
          ],
          "name": "stdout"
        }
      ]
    },
    {
      "cell_type": "markdown",
      "metadata": {
        "id": "Jw5QinJ2eipT"
      },
      "source": [
        "[![Open In Colab](https://colab.research.google.com/assets/colab-badge.svg)](https://colab.research.google.com/drive/1QTwqUij0HtfowVGUX3mEDSdQz7vnoshl?usp=sharing)"
      ]
    }
  ]
}
