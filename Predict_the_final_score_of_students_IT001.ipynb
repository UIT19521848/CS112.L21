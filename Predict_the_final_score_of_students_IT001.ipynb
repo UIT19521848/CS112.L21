{
  "nbformat": 4,
  "nbformat_minor": 0,
  "metadata": {
    "colab": {
      "name": "Predict_the_final_score_of_students_IT001.ipynb",
      "provenance": [],
      "mount_file_id": "1zuzTBR5c5R6fZ4JfnRyh0WqdbB4HdTAe",
      "authorship_tag": "ABX9TyPqo6+hP19Fn8Xzr1TkEHRI",
      "include_colab_link": true
    },
    "kernelspec": {
      "name": "python3",
      "display_name": "Python 3"
    },
    "language_info": {
      "name": "python"
    }
  },
  "cells": [
    {
      "cell_type": "markdown",
      "metadata": {
        "id": "view-in-github",
        "colab_type": "text"
      },
      "source": [
        "<a href=\"https://colab.research.google.com/github/levanphuoc-dev/CS112.L21/blob/main/Predict_the_final_score_of_students_IT001.ipynb\" target=\"_parent\"><img src=\"https://colab.research.google.com/assets/colab-badge.svg\" alt=\"Open In Colab\"/></a>"
      ]
    },
    {
      "cell_type": "code",
      "metadata": {
        "id": "OoHiMg8Wi2vx"
      },
      "source": [
        "import pandas as pd\n",
        "df_train = pd.read_csv('/content/drive/MyDrive/Colab Notebooks/Predict_the_final_score_of_students_IT001/wecode.csv')\n",
        "df_test = pd.read_csv('/content/drive/MyDrive/Colab Notebooks/Predict_the_final_score_of_students_IT001/score_training.csv')"
      ],
      "execution_count": null,
      "outputs": []
    },
    {
      "cell_type": "code",
      "metadata": {
        "id": "qlzO8itCFtai"
      },
      "source": [
        "import numpy as np\n",
        "x_train = np.array(df_train['']).reshape(-1, 1)\n",
        "y_train = np.array(df_train[''])"
      ],
      "execution_count": null,
      "outputs": []
    }
  ]
}